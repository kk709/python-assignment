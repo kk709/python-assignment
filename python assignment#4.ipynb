{
 "cells": [
  {
   "cell_type": "code",
   "execution_count": 2,
   "metadata": {},
   "outputs": [
    {
     "name": "stdout",
     "output_type": "stream",
     "text": [
      "1:what is your country name\n",
      " enter your correct answer in input field \n",
      "pakista\n",
      "USA\n",
      "UAE\n",
      "south africa\n",
      "pakistan\n",
      "2:what is your city name\n",
      " enter your correct answer in input field \n",
      "hyderabad\n",
      "karachi\n",
      "islamabad\n",
      "thurparkar\n",
      "karachi\n",
      "3:what is the capital of pakistan\n",
      " enter your correct answer in input field \n",
      "lahore\n",
      "peshawar\n",
      "islamabad\n",
      "kashmir\n",
      "islamabad\n",
      "your score is :2\n",
      "66.66666666666666\n"
     ]
    }
   ],
   "source": [
    "questions = [\n",
    "    {\n",
    "        \"s no.\": 1,\n",
    "        \"qustion\": \"what is your country name\",\n",
    "        \"options\": [\"pakista\", \"USA\", \"UAE\", \"south africa\"],\n",
    "        \"answer\": \"pakistan\"\n",
    "    },\n",
    "        {\n",
    "        \"s no.\": 2,\n",
    "        \"qustion\": \"what is your city name\",\n",
    "        \"options\": [\"hyderabad\", \"karachi\", \"islamabad\", \"thurparkar\"],\n",
    "        \"answer\": \"hyderabad\"\n",
    "    },\n",
    "        {\n",
    "        \"s no.\": 3,\n",
    "        \"qustion\": \"what is the capital of pakistan\",\n",
    "        \"options\": [\"lahore\", \"peshawar\", \"islamabad\", \"kashmir\"],\n",
    "        \"answer\": \"islamabad\"\n",
    "    }\n",
    "]\n",
    "\n",
    "score = 0\n",
    "\n",
    "for question in questions:\n",
    "    data = str(question[\"s no.\"]) + \":\" + question[\"qustion\"] + \"\\n enter your correct answer in input field \\n\"+ question[\"options\"][0] + \"\\n\" + question[\"options\"][1] + \"\\n\" + question[\"options\"][2] + \"\\n\" + question[\"options\"][3] + \"\\n\"\n",
    "    answer = input(data)\n",
    "    if answer == question[\"answer\"]:\n",
    "        score += 1\n",
    "        percentage = score / 3 * 100\n",
    "print(\"your score is :\" + str(score))\n",
    "print(percentage)"
   ]
  },
  {
   "cell_type": "code",
   "execution_count": null,
   "metadata": {},
   "outputs": [],
   "source": []
  }
 ],
 "metadata": {
  "kernelspec": {
   "display_name": "Python 3",
   "language": "python",
   "name": "python3"
  },
  "language_info": {
   "codemirror_mode": {
    "name": "ipython",
    "version": 3
   },
   "file_extension": ".py",
   "mimetype": "text/x-python",
   "name": "python",
   "nbconvert_exporter": "python",
   "pygments_lexer": "ipython3",
   "version": "3.7.4"
  }
 },
 "nbformat": 4,
 "nbformat_minor": 2
}
