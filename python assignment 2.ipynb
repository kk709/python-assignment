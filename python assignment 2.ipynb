{
 "cells": [
  {
   "cell_type": "code",
   "execution_count": 2,
   "metadata": {},
   "outputs": [
    {
     "name": "stdout",
     "output_type": "stream",
     "text": [
      "enter eng marks:65\n",
      "enter urdu marks:75\n",
      "enter math marks:80\n",
      "enter science marks:60\n",
      "enter pakistan studies marks:85\n",
      "73.0\n",
      "A\n"
     ]
    }
   ],
   "source": [
    "eng = int(input(\"enter eng marks:\"))\n",
    "urdu = int(input(\"enter urdu marks:\"))\n",
    "math = int(input(\"enter math marks:\"))\n",
    "science = int(input(\"enter science marks:\"))\n",
    "pst = int(input(\"enter pakistan studies marks:\"))\n",
    "obtained_marks = eng + urdu + math + science + pst\n",
    "percentage = obtained_marks / 500 * 100\n",
    "print(percentage)\n",
    "if percentage >= 80 :\n",
    " print(\"A+\")\n",
    "elif percentage >= 70 :\n",
    " print(\"A\")\n",
    "elif percentage >= 60 :\n",
    " print(\"B\")\n",
    "elif percentage >= 50 :\n",
    " print(\"C\")\n",
    "elif percentage >= 40 :\n",
    " print(\"D\")\n",
    "else :\n",
    " print(\"fial\")   "
   ]
  },
  {
   "cell_type": "code",
   "execution_count": 20,
   "metadata": {},
   "outputs": [
    {
     "name": "stdout",
     "output_type": "stream",
     "text": [
      "enter numners7\n",
      "odd\n"
     ]
    }
   ],
   "source": [
    "num = int(input(\"enter numners\"))\n",
    "if num == 2 :\n",
    " print(\"even\")\n",
    "elif num == 4 :\n",
    " print(\"even\")\n",
    "elif num == 6 :\n",
    " print(\"even\")\n",
    "elif num == 8 :\n",
    " print(\"even\")   \n",
    "else :\n",
    " print(\"odd\")   "
   ]
  },
  {
   "cell_type": "code",
   "execution_count": 24,
   "metadata": {},
   "outputs": [
    {
     "name": "stdout",
     "output_type": "stream",
     "text": [
      "30\n"
     ]
    }
   ],
   "source": [
    "length_of_list = 30\n",
    "print(length_of_list)"
   ]
  },
  {
   "cell_type": "code",
   "execution_count": 29,
   "metadata": {},
   "outputs": [
    {
     "name": "stdout",
     "output_type": "stream",
     "text": [
      "145\n"
     ]
    }
   ],
   "source": [
    "a = [12, 13, 5, 60, 55]\n",
    "add = 12 + 13 + 5 + 60 +55\n",
    "print(add)"
   ]
  },
  {
   "cell_type": "code",
   "execution_count": 36,
   "metadata": {},
   "outputs": [
    {
     "name": "stdout",
     "output_type": "stream",
     "text": [
      "emter b?88\n",
      "largest number of list a\n"
     ]
    }
   ],
   "source": [
    "a = [1, 4, 16, 55, 65, 88]\n",
    "b = int(input(\"emter b?\"))\n",
    "if b == 88 :\n",
    " print(\"largest number of list a\")\n",
    "elif b == 12 :\n",
    " print(\"lowest number of list a\")\n",
    "else :\n",
    " print(\"middle values of list a\")   "
   ]
  },
  {
   "cell_type": "code",
   "execution_count": null,
   "metadata": {},
   "outputs": [],
   "source": []
  },
  {
   "cell_type": "code",
   "execution_count": null,
   "metadata": {},
   "outputs": [],
   "source": []
  }
 ],
 "metadata": {
  "kernelspec": {
   "display_name": "Python 3",
   "language": "python",
   "name": "python3"
  },
  "language_info": {
   "codemirror_mode": {
    "name": "ipython",
    "version": 3
   },
   "file_extension": ".py",
   "mimetype": "text/x-python",
   "name": "python",
   "nbconvert_exporter": "python",
   "pygments_lexer": "ipython3",
   "version": "3.7.4"
  }
 },
 "nbformat": 4,
 "nbformat_minor": 2
}
