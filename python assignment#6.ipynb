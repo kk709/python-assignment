{
 "cells": [
  {
   "cell_type": "markdown",
   "metadata": {},
   "source": [
    "Question 1: Define Object Oriented Programming Languag?\n"
   ]
  },
  {
   "cell_type": "markdown",
   "metadata": {},
   "source": [
    "Ans : OOPL - Object Oriented Programming Languages\n",
    "An object-oriented programming language (OOPL) is a high-level programming language based on the object-oriented model. To perform object-oriented programming, one needs an object-oriented programming language.  Many modern programming languages are object-oriented, however some older programming languages, such as Pascal, do offer object-oriented versions. Examples of object-oriented programming languages include Java, C++ and Smalltalk."
   ]
  },
  {
   "cell_type": "markdown",
   "metadata": {},
   "source": [
    "Question 2: \n",
    "List down the Benefits of OOP? "
   ]
  },
  {
   "cell_type": "markdown",
   "metadata": {},
   "source": [
    "Ans : 1. Modularity for easier troubleshooting\n",
    "      2. Reuse of code through inheritance\n",
    "      3. Flexibility through polymorphism \n",
    "      4. Effective problem solving"
   ]
  },
  {
   "cell_type": "markdown",
   "metadata": {},
   "source": [
    "Question 3: Differentiate between function and method?"
   ]
  },
  {
   "cell_type": "markdown",
   "metadata": {},
   "source": [
    "Ans : A function is a piece of code that is called by name. It can be passed data to operate on (i.e. the parameters) and can optionally return data (the return value). All data that is passed to a function is explicitly passed.\n",
    "\n",
    "      A method is a piece of code that is called by a name that is associated with an object. In most respects it is identical to a function except for two key differences:\n",
    "\n",
    "    1.A method is implicitly passed the object on which it was called.\n",
    "    2.A method is able to operate on data that is contained within the class (remembering that an object is an instance of a class - the class is the definition, the object is an instance of that data)"
   ]
  },
  {
   "cell_type": "markdown",
   "metadata": {},
   "source": [
    "Question 4: Define the following terms: \n",
    "            1. Class \n",
    "            2. Object \n",
    "            3. Attribute \n",
    "            4. Behavior "
   ]
  },
  {
   "cell_type": "markdown",
   "metadata": {},
   "source": [
    "Ans : CLASS:- A class is the genric definition for a set of similar objects (i.e person is a genric definition for jane, nitch and sue)\n",
    "      \n",
    "     .A class can be thought of as a template used to create a set of objects.\n",
    "     .A class is a static definition; a piece of a code written in a programing language.\n",
    "     .One or more objects describe by the class are instantiated at runtime.\n",
    "     \n",
    "     OBJECTS:- Any entity that has and state and behaviour is known as an object. For example: chair, pen. table, keyboard, bike, etc. it can be physical and logical.\n",
    "     \n",
    "     .The objects are caleed instance of class.\n",
    "     \n",
    "     .An object is a software bundle of variables and related methods.\n",
    "     \n",
    "     \n",
    "     ATTRIBUTE:- An attribute is a property, trait, or characteristic of an class and object.\n",
    "     \n",
    "     \n",
    "     BEHAVIOUR:-behaviour of an object is the things it can do which is stored in methods. When the method is run, it performs an action, thus changing the state of the object.\n",
    "\n",
    "    State Examples:\n",
    "\n",
    "                    A radio can be \"on\" or \"off\"\n",
    "                    A song can be \"playing\" or \"not playing\"\n",
    "                    A task can be either \"complete\" or \"incomplete\"\n",
    "    Behaviour Examples:\n",
    "\n",
    "                    If a power button is pressed, the radio turns from \"off\" to \"on\"\n",
    "                    If a stop button is pressed, the song that is playing \"stops\"\n",
    "                    If you finish a task and click on the checkbox to the left, a line crosses thru the text task indicating it's complete\n",
    "     \n",
    "     "
   ]
  },
  {
   "cell_type": "markdown",
   "metadata": {},
   "source": [
    "Question 5: Write a code in python in which create a class named it Car which have 5 attributes such like (model, color and name etc.) and 3 methods. And create 5 object instance from that class."
   ]
  },
  {
   "cell_type": "code",
   "execution_count": 9,
   "metadata": {},
   "outputs": [
    {
     "name": "stdout",
     "output_type": "stream",
     "text": [
      "enter number of cars : 1\n",
      "cars detail entry...\n",
      "car :  1\n",
      "|tmodel : corrolla\n",
      "|tcolor : white\n",
      "|tname : atlis\n",
      "|tengine : 1500cc\n",
      "car information\n",
      "model|t|tcolor|t|tname|t|tengine\n",
      "car information\n",
      "model|t|tcolor|t|tname|t|tengine\n"
     ]
    },
    {
     "ename": "TypeError",
     "evalue": "display() missing 1 required positional argument: 'self'",
     "output_type": "error",
     "traceback": [
      "\u001b[1;31m---------------------------------------------------------------------------\u001b[0m",
      "\u001b[1;31mTypeError\u001b[0m                                 Traceback (most recent call last)",
      "\u001b[1;32m<ipython-input-9-5dca63cea039>\u001b[0m in \u001b[0;36m<module>\u001b[1;34m\u001b[0m\n\u001b[0;32m     35\u001b[0m \u001b[0mprint\u001b[0m\u001b[1;33m(\u001b[0m\u001b[1;34m\"model|t|tcolor|t|tname|t|tengine\"\u001b[0m\u001b[1;33m)\u001b[0m\u001b[1;33m\u001b[0m\u001b[1;33m\u001b[0m\u001b[0m\n\u001b[0;32m     36\u001b[0m \u001b[1;32mfor\u001b[0m \u001b[0mi\u001b[0m \u001b[1;32min\u001b[0m \u001b[0mrange\u001b[0m\u001b[1;33m(\u001b[0m\u001b[0mn\u001b[0m\u001b[1;33m)\u001b[0m\u001b[1;33m:\u001b[0m\u001b[1;33m\u001b[0m\u001b[1;33m\u001b[0m\u001b[0m\n\u001b[1;32m---> 37\u001b[1;33m     \u001b[0mst\u001b[0m\u001b[1;33m[\u001b[0m\u001b[0mi\u001b[0m\u001b[1;33m]\u001b[0m\u001b[1;33m.\u001b[0m\u001b[0mdisplay\u001b[0m\u001b[1;33m(\u001b[0m\u001b[1;33m)\u001b[0m\u001b[1;33m\u001b[0m\u001b[1;33m\u001b[0m\u001b[0m\n\u001b[0m\u001b[0;32m     38\u001b[0m     \u001b[0mprint\u001b[0m\u001b[1;33m(\u001b[0m\u001b[0mst\u001b[0m\u001b[1;33m[\u001b[0m\u001b[0mi\u001b[0m\u001b[1;33m]\u001b[0m\u001b[1;33m.\u001b[0m\u001b[0mdisplay\u001b[0m\u001b[1;33m(\u001b[0m\u001b[1;33m)\u001b[0m\u001b[1;33m)\u001b[0m\u001b[1;33m\u001b[0m\u001b[1;33m\u001b[0m\u001b[0m\n\u001b[0;32m     39\u001b[0m \u001b[1;33m\u001b[0m\u001b[0m\n",
      "\u001b[1;31mTypeError\u001b[0m: display() missing 1 required positional argument: 'self'"
     ]
    }
   ],
   "source": [
    "class car:\n",
    "    def init(self,model,color,name,engine):\n",
    "        self.model=model\n",
    "        self.color=color\n",
    "        self.name=name\n",
    "        self.engine=engine\n",
    "    def display(self):\n",
    "        print(self.model,end=\"|t|t\")\n",
    "        print(self.color,end=\"|t|t\")\n",
    "        print(self.name,end=\"|t|t\")\n",
    "        print(self.engine)\n",
    "        \n",
    "st=list()        \n",
    "n=int(input(\"enter number of cars : \"))\n",
    "print(\"cars detail entry...\")\n",
    "for i in range(n):\n",
    "    print(\"car : \",i+1)\n",
    "    model=input(\"|tmodel : \")\n",
    "    color=input(\"|tcolor : \")\n",
    "    name=input(\"|tname : \")\n",
    "    engine=input(\"|tengine : \")\n",
    "    st.append(car)\n",
    "    \n",
    "print(\"car information\")\n",
    "print(\"model|t|tcolor|t|tname|t|tengine\")\n",
    "for i in range(n):\n",
    "    for j in range(i+1,n):\n",
    "        if(st[i].name>st[j].name):\n",
    "            temp=st[i]\n",
    "            st[i]=st[j]\n",
    "            st[j]=temp\n",
    "        \n",
    "           \n",
    "print(\"car information\")\n",
    "print(\"model|t|tcolor|t|tname|t|tengine\")\n",
    "for i in range(n):\n",
    "    st[i].display()\n",
    "    print(st[i].display())\n",
    "    \n",
    "    "
   ]
  },
  {
   "cell_type": "code",
   "execution_count": null,
   "metadata": {},
   "outputs": [],
   "source": []
  }
 ],
 "metadata": {
  "kernelspec": {
   "display_name": "Python 3",
   "language": "python",
   "name": "python3"
  },
  "language_info": {
   "codemirror_mode": {
    "name": "ipython",
    "version": 3
   },
   "file_extension": ".py",
   "mimetype": "text/x-python",
   "name": "python",
   "nbconvert_exporter": "python",
   "pygments_lexer": "ipython3",
   "version": "3.7.4"
  }
 },
 "nbformat": 4,
 "nbformat_minor": 2
}
