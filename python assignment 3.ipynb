{
 "cells": [
  {
   "cell_type": "code",
   "execution_count": 3,
   "metadata": {},
   "outputs": [
    {
     "name": "stdout",
     "output_type": "stream",
     "text": [
      "Enter first value5\n",
      "Enter operator**\n",
      "Enter second value2\n",
      "25 answer\n"
     ]
    }
   ],
   "source": [
    "val1 = input(\"Enter first value\")\n",
    "operator = input(\"Enter operator\")\n",
    "val2 = input(\"Enter second value\")\n",
    "\n",
    "val1 = int(val1)\n",
    "val2 = int(val2)\n",
    "\n",
    "if operator == \"+\":\n",
    "    val = val1 + val2\n",
    "    print(val, \"answer\")\n",
    "    \n",
    "elif operator ==\"-\":\n",
    "    val = val1 - val2\n",
    "    print(val, \"answer\")\n",
    "\n",
    "elif operator ==\"*\":\n",
    "    val = val1 * val2\n",
    "    print(val, \"answer\")\n",
    "    \n",
    "elif operator ==\"/\":\n",
    "    val = val1 / val2\n",
    "    print(val, \"answer\")\n",
    "\n",
    "elif operator ==\"**\":\n",
    "    val = val1 ** val2\n",
    "    print(val, \"answer\")    \n",
    "\n",
    "else:\n",
    "    print(\"enter correct operator\")\n",
    "    "
   ]
  },
  {
   "cell_type": "code",
   "execution_count": 12,
   "metadata": {},
   "outputs": [
    {
     "name": "stdout",
     "output_type": "stream",
     "text": [
      "enter numeric valueali\n",
      "this is not numeric value\n",
      "this is numeric value\n"
     ]
    }
   ],
   "source": [
    "list = [\"hyderabad\", \"ali\", 1, 5, \"waleed\",]\n",
    "\n",
    "val = input(\"enter numeric value\")\n",
    "\n",
    "for hasnain in list:\n",
    "    if val == hasnain:\n",
    "        print(\"this is numeric value\")\n",
    "        break\n",
    "    else:\n",
    "        print(\"this is not numeric value\")\n",
    "        "
   ]
  },
  {
   "cell_type": "code",
   "execution_count": 25,
   "metadata": {},
   "outputs": [
    {
     "name": "stdout",
     "output_type": "stream",
     "text": [
      "{'uk': 'london', 'france': 'paris', 'germany': 'berlin', 'belgium': 'brussels'}\n"
     ]
    }
   ],
   "source": [
    "capitals = {'uk':'london', 'france':'paris', 'germany':'berlin'}\n",
    "capitals['belgium'] = 'brussels'\n",
    "print(capitals)            "
   ]
  },
  {
   "cell_type": "markdown",
   "metadata": {},
   "source": []
  },
  {
   "cell_type": "code",
   "execution_count": 43,
   "metadata": {},
   "outputs": [
    {
     "name": "stdout",
     "output_type": "stream",
     "text": [
      "6\n"
     ]
    }
   ],
   "source": [
    "d = {\"A\":1,\n",
    "       \"B\":2,\n",
    "       \"C\":3,\n",
    "    \n",
    "}\n",
    "\n",
    "print(sum(d.values()))"
   ]
  },
  {
   "cell_type": "code",
   "execution_count": 45,
   "metadata": {},
   "outputs": [
    {
     "name": "stdout",
     "output_type": "stream",
     "text": [
      "['1', '2', '3', '4', '5', '6']\n"
     ]
    }
   ],
   "source": [
    "list1 = [\"1\", \"2\", \"3\", \"4\", \"5\", \"2\", \"4\", \"3\", \"2\", \"6\"]\n",
    "list2 = []\n",
    "\n",
    "for i in list1:\n",
    "    if i not in list2:\n",
    "        list2.append(i)\n",
    "print(list2)        "
   ]
  },
  {
   "cell_type": "code",
   "execution_count": 56,
   "metadata": {},
   "outputs": [
    {
     "name": "stdout",
     "output_type": "stream",
     "text": [
      "enter any key to check it is exit or not2\n",
      "this key is not exit\n",
      "this key is not exit\n",
      "this key is not exit\n",
      "this key is not exit\n",
      "this key is not exit\n",
      "this key is not exit\n"
     ]
    }
   ],
   "source": [
    "disc = {1:\"ahmed\", 2:\"haris\", 3:\"sufyan\", 4:\"hasnain\", 5:\"mannan\", 6:\"umair\"}\n",
    "\n",
    "d = input(\"enter any key to check it is exit or not\")\n",
    "\n",
    "for asif in disc:\n",
    "    if d == asif:\n",
    "        print(\"this key is already exit\")\n",
    "        break\n",
    "    else:\n",
    "        print(\"this key is not exit\")\n",
    "        "
   ]
  },
  {
   "cell_type": "code",
   "execution_count": null,
   "metadata": {},
   "outputs": [],
   "source": []
  }
 ],
 "metadata": {
  "kernelspec": {
   "display_name": "Python 3",
   "language": "python",
   "name": "python3"
  },
  "language_info": {
   "codemirror_mode": {
    "name": "ipython",
    "version": 3
   },
   "file_extension": ".py",
   "mimetype": "text/x-python",
   "name": "python",
   "nbconvert_exporter": "python",
   "pygments_lexer": "ipython3",
   "version": "3.7.4"
  }
 },
 "nbformat": 4,
 "nbformat_minor": 2
}
