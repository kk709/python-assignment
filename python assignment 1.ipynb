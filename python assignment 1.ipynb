{
 "cells": [
  {
   "cell_type": "code",
   "execution_count": 5,
   "metadata": {},
   "outputs": [
    {
     "name": "stdout",
     "output_type": "stream",
     "text": [
      "enter percentage %85\n",
      "A+\n"
     ]
    }
   ],
   "source": [
    "per = int(input(\"enter percentage %\"))\n",
    "if per >= 80 : \n",
    " print(\"A+\")\n",
    "elif per >= 70 :\n",
    " print(\"A\")\n",
    "elif per >= 60 :\n",
    " print(\"B\")\n",
    "elif per >= 50 :\n",
    " print(\"C\")\n",
    "elif per >= 40 :\n",
    " print(\"D\")\n",
    "else :\n",
    " print(\"fail\")   \n"
   ]
  },
  {
   "cell_type": "code",
   "execution_count": null,
   "metadata": {},
   "outputs": [],
   "source": []
  },
  {
   "cell_type": "code",
   "execution_count": null,
   "metadata": {},
   "outputs": [],
   "source": []
  }
 ],
 "metadata": {
  "kernelspec": {
   "display_name": "Python 3",
   "language": "python",
   "name": "python3"
  },
  "language_info": {
   "codemirror_mode": {
    "name": "ipython",
    "version": 3
   },
   "file_extension": ".py",
   "mimetype": "text/x-python",
   "name": "python",
   "nbconvert_exporter": "python",
   "pygments_lexer": "ipython3",
   "version": "3.7.4"
  }
 },
 "nbformat": 4,
 "nbformat_minor": 2
}
